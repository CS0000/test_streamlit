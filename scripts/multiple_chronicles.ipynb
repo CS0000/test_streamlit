{
 "cells": [
  {
   "cell_type": "code",
   "execution_count": 1,
   "metadata": {},
   "outputs": [],
   "source": [
    "from bs4 import BeautifulSoup\n",
    "import math,pickle,textwrap,random,os,lxml,plotly\n",
    "import pandas as pd\n",
    "from datetime import date,datetime\n",
    "import plotly.graph_objects as go\n",
    "import plotly.express as px\n",
    "from pprint import pprint\n",
    "import numpy as np\n",
    "from helper import *"
   ]
  },
  {
   "cell_type": "markdown",
   "metadata": {},
   "source": [
    "# Load data"
   ]
  },
  {
   "cell_type": "code",
   "execution_count": 2,
   "metadata": {},
   "outputs": [],
   "source": [
    "with open('../20221122/location_mapping.pkl', 'rb') as f:\n",
    "    mapping_colation = pickle.load(f)"
   ]
  },
  {
   "cell_type": "code",
   "execution_count": 3,
   "metadata": {},
   "outputs": [],
   "source": [
    "with open('../20221122/1791_Purm_Louw_04.xml','r') as f:\n",
    "    file = f.read()\n",
    "purmLouw_1791 = BeautifulSoup(file,'xml')"
   ]
  },
  {
   "cell_type": "code",
   "execution_count": 4,
   "metadata": {},
   "outputs": [
    {
     "data": {
      "text/html": [
       "<div>\n",
       "<style scoped>\n",
       "    .dataframe tbody tr th:only-of-type {\n",
       "        vertical-align: middle;\n",
       "    }\n",
       "\n",
       "    .dataframe tbody tr th {\n",
       "        vertical-align: top;\n",
       "    }\n",
       "\n",
       "    .dataframe thead th {\n",
       "        text-align: right;\n",
       "    }\n",
       "</style>\n",
       "<table border=\"1\" class=\"dataframe\">\n",
       "  <thead>\n",
       "    <tr style=\"text-align: right;\">\n",
       "      <th></th>\n",
       "      <th>Value</th>\n",
       "      <th>Context</th>\n",
       "      <th>Imagename</th>\n",
       "      <th>Doc</th>\n",
       "      <th>Page</th>\n",
       "      <th>Region</th>\n",
       "      <th>Line</th>\n",
       "      <th>Word</th>\n",
       "      <th>datum</th>\n",
       "      <th>offset</th>\n",
       "      <th>length</th>\n",
       "      <th>continued</th>\n",
       "    </tr>\n",
       "  </thead>\n",
       "  <tbody>\n",
       "    <tr>\n",
       "      <th>0</th>\n",
       "      <td>1775</td>\n",
       "      <td>1775 tot 1788 enz:;</td>\n",
       "      <td>NL-HlmNHA_143_21_0003.jpg</td>\n",
       "      <td>901446</td>\n",
       "      <td>3</td>\n",
       "      <td>r1</td>\n",
       "      <td>r1l10</td>\n",
       "      <td>NaN</td>\n",
       "      <td>1775-xx-xx</td>\n",
       "      <td>0</td>\n",
       "      <td>4</td>\n",
       "      <td>False</td>\n",
       "    </tr>\n",
       "    <tr>\n",
       "      <th>1</th>\n",
       "      <td>1788</td>\n",
       "      <td>1775 tot 1788 enz:;</td>\n",
       "      <td>NL-HlmNHA_143_21_0003.jpg</td>\n",
       "      <td>901446</td>\n",
       "      <td>3</td>\n",
       "      <td>r1</td>\n",
       "      <td>r1l10</td>\n",
       "      <td>NaN</td>\n",
       "      <td>1788-xx-xx</td>\n",
       "      <td>8</td>\n",
       "      <td>6</td>\n",
       "      <td>False</td>\n",
       "    </tr>\n",
       "    <tr>\n",
       "      <th>2</th>\n",
       "      <td>1785</td>\n",
       "      <td>der Stad Purmerende, 1785</td>\n",
       "      <td>NL-HlmNHA_143_21_0012.jpg</td>\n",
       "      <td>901446</td>\n",
       "      <td>12</td>\n",
       "      <td>region_1568800990264_4443</td>\n",
       "      <td>line_1568800996505_4451</td>\n",
       "      <td>NaN</td>\n",
       "      <td>1785-xx-xx</td>\n",
       "      <td>21</td>\n",
       "      <td>4</td>\n",
       "      <td>False</td>\n",
       "    </tr>\n",
       "    <tr>\n",
       "      <th>3</th>\n",
       "      <td>1785</td>\n",
       "      <td>der Stad Purmerende, 1785</td>\n",
       "      <td>NL-HlmNHA_143_21_0013.jpg</td>\n",
       "      <td>901446</td>\n",
       "      <td>13</td>\n",
       "      <td>r2</td>\n",
       "      <td>r2l3</td>\n",
       "      <td>NaN</td>\n",
       "      <td>1785-xx-xx</td>\n",
       "      <td>21</td>\n",
       "      <td>4</td>\n",
       "      <td>False</td>\n",
       "    </tr>\n",
       "    <tr>\n",
       "      <th>4</th>\n",
       "      <td>1785</td>\n",
       "      <td>merende in 't Jaar 1785.</td>\n",
       "      <td>NL-HlmNHA_143_21_0014.jpg</td>\n",
       "      <td>901446</td>\n",
       "      <td>14</td>\n",
       "      <td>r1</td>\n",
       "      <td>r1l14</td>\n",
       "      <td>NaN</td>\n",
       "      <td>1785-xx-xx</td>\n",
       "      <td>19</td>\n",
       "      <td>4</td>\n",
       "      <td>False</td>\n",
       "    </tr>\n",
       "  </tbody>\n",
       "</table>\n",
       "</div>"
      ],
      "text/plain": [
       "    Value                    Context                  Imagename     Doc  Page  \\\n",
       "0    1775        1775 tot 1788 enz:;  NL-HlmNHA_143_21_0003.jpg  901446     3   \n",
       "1   1788         1775 tot 1788 enz:;  NL-HlmNHA_143_21_0003.jpg  901446     3   \n",
       "2    1785  der Stad Purmerende, 1785  NL-HlmNHA_143_21_0012.jpg  901446    12   \n",
       "3    1785  der Stad Purmerende, 1785  NL-HlmNHA_143_21_0013.jpg  901446    13   \n",
       "4    1785   merende in 't Jaar 1785.  NL-HlmNHA_143_21_0014.jpg  901446    14   \n",
       "\n",
       "                      Region                     Line  Word       datum  \\\n",
       "0                         r1                    r1l10   NaN  1775-xx-xx   \n",
       "1                         r1                    r1l10   NaN  1788-xx-xx   \n",
       "2  region_1568800990264_4443  line_1568800996505_4451   NaN  1785-xx-xx   \n",
       "3                         r2                     r2l3   NaN  1785-xx-xx   \n",
       "4                         r1                    r1l14   NaN  1785-xx-xx   \n",
       "\n",
       "   offset  length  continued  \n",
       "0       0       4      False  \n",
       "1       8       6      False  \n",
       "2      21       4      False  \n",
       "3      21       4      False  \n",
       "4      19       4      False  "
      ]
     },
     "execution_count": 4,
     "metadata": {},
     "output_type": "execute_result"
    }
   ],
   "source": [
    "purmLouw_1791_meta = pd.read_excel('../20221122/1791_Purm_Louw_04.xlsx',sheet_name='datum',engine='openpyxl')\n",
    "purmLouw_1791_meta_all = pd.read_excel('../20221122/1791_Purm_Louw_04.xlsx',sheet_name='Overview',engine='openpyxl')\n",
    "purmLouw_1791_meta.head()"
   ]
  },
  {
   "cell_type": "code",
   "execution_count": null,
   "metadata": {},
   "outputs": [],
   "source": []
  },
  {
   "cell_type": "markdown",
   "metadata": {},
   "source": [
    "# process data"
   ]
  },
  {
   "cell_type": "code",
   "execution_count": null,
   "metadata": {},
   "outputs": [],
   "source": []
  },
  {
   "cell_type": "markdown",
   "metadata": {},
   "source": [
    "## process excel & xml\n",
    "* get year-month-day in metadata excel\n",
    "* generate a dictionary, keys are each ab in chronicle, value is a dictionary, contains:                 \n",
    "  'type', 'lb', 'line', 'value', 'belong_to_date', 'page', 'whole_line_context'"
   ]
  },
  {
   "cell_type": "code",
   "execution_count": 5,
   "metadata": {},
   "outputs": [],
   "source": [
    "# preprocess excel metadata of each chronicle\n",
    "for row in purmLouw_1791_meta.index.tolist():\n",
    "     if type(purmLouw_1791_meta.loc[row,'datum']) is not str:\n",
    "        try:\n",
    "            purmLouw_1791_meta.loc[row,'datum'] = purmLouw_1791_meta.loc[row,'when']\n",
    "        except:\n",
    "            pass\n",
    "            # print(purmLouw_1791_meta.loc[row,'datum'])\n"
   ]
  },
  {
   "cell_type": "code",
   "execution_count": 6,
   "metadata": {},
   "outputs": [],
   "source": [
    "# preprocess excel metadata of each chronicle\n",
    "_ = purmLouw_1791_meta.loc[purmLouw_1791_meta['datum'].notnull()]\n",
    "for row in _.index.tolist():\n",
    "    date = purmLouw_1791_meta.loc[row,'datum']\n",
    "    try:\n",
    "        if (type(date) == str) & (len(date.split('-')) == 3):\n",
    "            purmLouw_1791_meta.loc[row,'year'],purmLouw_1791_meta.loc[row,'month'],purmLouw_1791_meta.loc[row,'day'] = date.split('-')\n",
    "    except:\n",
    "        print(date)"
   ]
  },
  {
   "cell_type": "code",
   "execution_count": 7,
   "metadata": {},
   "outputs": [
    {
     "name": "stdout",
     "output_type": "stream",
     "text": [
      "missing month: 38, missing days: 67\n"
     ]
    }
   ],
   "source": [
    "# for each chronicle excel file:\n",
    "# Completeness of dates: year, month ,day\n",
    "month_miss = purmLouw_1791_meta.loc[purmLouw_1791_meta['month']=='xx',:].shape[0]\n",
    "day_miss = purmLouw_1791_meta.loc[purmLouw_1791_meta['day']=='xx',:].shape[0]\n",
    "print(f\"missing month: {month_miss}, missing days: {day_miss}\")\n",
    "\n",
    "# fill missing to 01\n",
    "purmLouw_1791_meta['month'] = purmLouw_1791_meta['month'].str.replace('xx','01') # .astype('Int64')\n",
    "purmLouw_1791_meta['day'] = purmLouw_1791_meta['day'].str.replace('xx','01') #.astype('Int64')"
   ]
  },
  {
   "cell_type": "code",
   "execution_count": 54,
   "metadata": {},
   "outputs": [
    {
     "data": {
      "text/plain": [
       "(487, 15)"
      ]
     },
     "execution_count": 54,
     "metadata": {},
     "output_type": "execute_result"
    }
   ],
   "source": [
    "purmLouw_1791_meta.shape"
   ]
  },
  {
   "cell_type": "code",
   "execution_count": 61,
   "metadata": {},
   "outputs": [
    {
     "name": "stdout",
     "output_type": "stream",
     "text": [
      "<locatie>P U R M E R E N D E</locatie>\n"
     ]
    }
   ],
   "source": [
    "# process xml data of each chronicle\n",
    "# generate a dictionary \n",
    "purm_louw_dic = {}\n",
    "locatie_count_ab = 0\n",
    "abs = purmLouw_1791.find_all('ab')# limit=100  # {'facs':['#facs_1_region_1','#facs_2_region_1']})\n",
    "for ab in abs:\n",
    "    for ind,i in enumerate(ab):\n",
    "        if i.name in ['locatie','datum']:\n",
    "            lb_fac = i.findPrevious('lb')['facs'] \n",
    "            ind = str(ind) + '|' + lb_fac \n",
    "            purm_louw_dic[ind] = {'type':i.name}\n",
    "            purm_louw_dic[ind].update({'lb':lb_fac})\n",
    "            purm_louw_dic[ind].update({'line':i.findPrevious('lb')['n']})\n",
    "            purm_louw_dic[ind].update({'value':i.text})\n",
    "            # find the whole line in metadata excel\n",
    "        if i.name == 'locatie':\n",
    "            locatie_count_ab += 1\n",
    "            try:\n",
    "                # print(i.find_previous('datum').findPrevious('lb'))\n",
    "                purm_louw_dic[ind].update({'belong_to_date':{'text':i.find_previous('datum').text, \n",
    "                                                             'date_line':i.find_previous('datum').findPrevious('lb')['facs']}})\n",
    "            except:\n",
    "                print(i)\n",
    "\n",
    " "
   ]
  },
  {
   "cell_type": "code",
   "execution_count": 62,
   "metadata": {},
   "outputs": [
    {
     "name": "stdout",
     "output_type": "stream",
     "text": [
      "1419\n",
      "724\n"
     ]
    }
   ],
   "source": [
    "print(len(purm_louw_dic))\n",
    "print(locatie_count_ab)"
   ]
  },
  {
   "cell_type": "code",
   "execution_count": 63,
   "metadata": {},
   "outputs": [],
   "source": [
    "# add page and line\n",
    "# normalized date\n",
    "# context\n",
    "cannot_get_date_inmeta = 0\n",
    "cannot_get_page = 0\n",
    "locatie_count = 0\n",
    "no_belong_to_date = 0\n",
    "for k,v in purm_louw_dic.items():\n",
    "    page,line = get_page_line(v['lb'])\n",
    "    try:\n",
    "        purm_louw_dic[k].update({'page':page,'line':line,\n",
    "                                'whole_line_context':purmLouw_1791_meta_all.query(\"Page ==@ page\").query(\"Line==@line\")['Context'].tolist()[0]})\n",
    "    except:\n",
    "        cannot_get_page += 1\n",
    "        # print(page, line)\n",
    "        # metadata not compelet (excel)\n",
    "    \n",
    "    if v['type'] == 'locatie':\n",
    "        locatie_count += 1\n",
    "        try:\n",
    "            date_value = str(v['belong_to_date']['text'])# .strip()\n",
    "        except:\n",
    "            no_belong_to_date += 1\n",
    "        try:\n",
    "            date_page, date_line = get_page_line(v['belong_to_date']['date_line'])\n",
    "            da = purmLouw_1791_meta.query(\"Page ==@ date_page\").query(\"Line==@ date_line\").query(\"Value==@date_value\")\n",
    "            purm_louw_dic[k]['belong_to_date'].update({'normal_date':f\"{da['year'].values[0]}-{da['month'].values[0]}-{da['day'].values[0]}\"})            \n",
    "        except:\n",
    "            cannot_get_date_inmeta +=1\n",
    "            \n",
    "\n"
   ]
  },
  {
   "cell_type": "code",
   "execution_count": 64,
   "metadata": {},
   "outputs": [
    {
     "name": "stdout",
     "output_type": "stream",
     "text": [
      "248\n",
      "356\n",
      "724\n",
      "1\n"
     ]
    }
   ],
   "source": [
    "print(cannot_get_page)\n",
    "print(cannot_get_date_inmeta)\n",
    "print(locatie_count)\n",
    "print(no_belong_to_date)"
   ]
  },
  {
   "cell_type": "code",
   "execution_count": 65,
   "metadata": {},
   "outputs": [
    {
     "name": "stdout",
     "output_type": "stream",
     "text": [
      "{'belong_to_date': {'date_line': '#facs_20_r2l3', 'text': 'tus 1786'},\n",
      " 'lb': '#facs_21_r1l10',\n",
      " 'line': 'r1l10',\n",
      " 'page': 21,\n",
      " 'type': 'locatie',\n",
      " 'value': 'Purmerend',\n",
      " 'whole_line_context': 'Dan zal Ons Purmerend,'}\n"
     ]
    }
   ],
   "source": [
    "pprint(purm_louw_dic['21|#facs_21_r1l10'])"
   ]
  },
  {
   "cell_type": "code",
   "execution_count": null,
   "metadata": {},
   "outputs": [],
   "source": []
  },
  {
   "cell_type": "markdown",
   "metadata": {},
   "source": [
    "## df for plot"
   ]
  },
  {
   "cell_type": "code",
   "execution_count": 66,
   "metadata": {},
   "outputs": [
    {
     "data": {
      "text/plain": [
       "{'match_place': 'Utrecht', 'la': 52.100140025887015, 'lo': 5.084805569558331}"
      ]
     },
     "execution_count": 66,
     "metadata": {},
     "output_type": "execute_result"
    }
   ],
   "source": [
    "purm_louw_dic['38|#facs_53_r1l14']\n",
    "mapping_colation.get(purm_louw_dic['38|#facs_53_r1l14']['value'].strip(' ').lower())"
   ]
  },
  {
   "cell_type": "code",
   "execution_count": 67,
   "metadata": {},
   "outputs": [
    {
     "data": {
      "text/plain": [
       "'utregt'"
      ]
     },
     "execution_count": 67,
     "metadata": {},
     "output_type": "execute_result"
    }
   ],
   "source": [
    "purm_louw_dic['38|#facs_53_r1l14']['value'].strip(' ').lower()"
   ]
  },
  {
   "cell_type": "code",
   "execution_count": 68,
   "metadata": {},
   "outputs": [],
   "source": [
    "df = pd.DataFrame(columns=['la','lo','hover','date_belong'])\n",
    "count_all_locatie = 0\n",
    "count_hover_locatie = 0\n",
    "for k,v in purm_louw_dic.items():\n",
    "    if v['type'] == 'locatie':\n",
    "        count_all_locatie += 1\n",
    "        try: \n",
    "            place_pack = mapping_colation.get(v['value'].strip(' ').lower())\n",
    "            if place_pack['la'] in df['la'].tolist():\n",
    "                df.loc[k,'la'] = place_pack['la'] + random.uniform(0,0.01)\n",
    "            else:\n",
    "                df.loc[k,'la'] = place_pack['la']\n",
    "            if place_pack['lo'] in df['lo'].tolist():\n",
    "                df.loc[k,'lo'] = place_pack['lo'] + random.uniform(0,0.01)\n",
    "            else:\n",
    "                df.loc[k,'lo'] = place_pack['lo']\n",
    "            # hover info\n",
    "            lb = v['lb']\n",
    "            tt = f\"<b>location: {place_pack['match_place']}</b><br><br><b>page and line: {lb}<br><br>{v['whole_line_context']}\" \n",
    "            df.loc[k,'hover'] = tt\n",
    "            df.loc[k,'date_belong'] = v['belong_to_date']['normal_date']\n",
    "            df.loc[k,'location'] = place_pack['match_place']\n",
    "            df.loc[k,'raw_location'] = v['value']\n",
    "            count_hover_locatie +=1\n",
    "        except:\n",
    "            # print(v['value'],lb,v['whole_line_context'])\n",
    "            pass\n",
    "        "
   ]
  },
  {
   "cell_type": "code",
   "execution_count": 69,
   "metadata": {},
   "outputs": [
    {
     "name": "stdout",
     "output_type": "stream",
     "text": [
      "724 301\n"
     ]
    }
   ],
   "source": [
    "print(count_all_locatie,count_hover_locatie)"
   ]
  },
  {
   "cell_type": "code",
   "execution_count": 70,
   "metadata": {},
   "outputs": [
    {
     "data": {
      "text/html": [
       "<div>\n",
       "<style scoped>\n",
       "    .dataframe tbody tr th:only-of-type {\n",
       "        vertical-align: middle;\n",
       "    }\n",
       "\n",
       "    .dataframe tbody tr th {\n",
       "        vertical-align: top;\n",
       "    }\n",
       "\n",
       "    .dataframe thead th {\n",
       "        text-align: right;\n",
       "    }\n",
       "</style>\n",
       "<table border=\"1\" class=\"dataframe\">\n",
       "  <thead>\n",
       "    <tr style=\"text-align: right;\">\n",
       "      <th></th>\n",
       "      <th>la</th>\n",
       "      <th>lo</th>\n",
       "      <th>hover</th>\n",
       "      <th>date_belong</th>\n",
       "      <th>location</th>\n",
       "      <th>raw_location</th>\n",
       "    </tr>\n",
       "  </thead>\n",
       "  <tbody>\n",
       "    <tr>\n",
       "      <th>10|#facs_3_r1l5</th>\n",
       "      <td>NaN</td>\n",
       "      <td>NaN</td>\n",
       "      <td>&lt;b&gt;location: nan&lt;/b&gt;&lt;br&gt;&lt;br&gt;&lt;b&gt;page and line: ...</td>\n",
       "      <td>NaN</td>\n",
       "      <td>NaN</td>\n",
       "      <td>NaN</td>\n",
       "    </tr>\n",
       "    <tr>\n",
       "      <th>9|#facs_5_r4l4</th>\n",
       "      <td>52.509903</td>\n",
       "      <td>4.946108</td>\n",
       "      <td>&lt;b&gt;location: Purmerende&lt;/b&gt;&lt;br&gt;&lt;br&gt;&lt;b&gt;page and...</td>\n",
       "      <td>1788-01-01</td>\n",
       "      <td>Purmerende</td>\n",
       "      <td>Purmerende</td>\n",
       "    </tr>\n",
       "    <tr>\n",
       "      <th>53|#facs_5_r4l23</th>\n",
       "      <td>54.063861</td>\n",
       "      <td>19.659497</td>\n",
       "      <td>&lt;b&gt;location: Hollant&lt;/b&gt;&lt;br&gt;&lt;br&gt;&lt;b&gt;page and li...</td>\n",
       "      <td>1788-01-01</td>\n",
       "      <td>Hollant</td>\n",
       "      <td>Holland</td>\n",
       "    </tr>\n",
       "    <tr>\n",
       "      <th>46|#facs_6_r3l31</th>\n",
       "      <td>54.066678</td>\n",
       "      <td>19.664917</td>\n",
       "      <td>&lt;b&gt;location: Hollant&lt;/b&gt;&lt;br&gt;&lt;br&gt;&lt;b&gt;page and li...</td>\n",
       "      <td>1788-01-01</td>\n",
       "      <td>Hollant</td>\n",
       "      <td>Holland</td>\n",
       "    </tr>\n",
       "    <tr>\n",
       "      <th>40|#facs_7_r3l23</th>\n",
       "      <td>54.072164</td>\n",
       "      <td>19.661433</td>\n",
       "      <td>&lt;b&gt;location: Hollant&lt;/b&gt;&lt;br&gt;&lt;br&gt;&lt;b&gt;page and li...</td>\n",
       "      <td>1788-01-01</td>\n",
       "      <td>Hollant</td>\n",
       "      <td>Holland</td>\n",
       "    </tr>\n",
       "  </tbody>\n",
       "</table>\n",
       "</div>"
      ],
      "text/plain": [
       "                         la         lo  \\\n",
       "10|#facs_3_r1l5         NaN        NaN   \n",
       "9|#facs_5_r4l4    52.509903   4.946108   \n",
       "53|#facs_5_r4l23  54.063861  19.659497   \n",
       "46|#facs_6_r3l31  54.066678  19.664917   \n",
       "40|#facs_7_r3l23  54.072164  19.661433   \n",
       "\n",
       "                                                              hover  \\\n",
       "10|#facs_3_r1l5   <b>location: nan</b><br><br><b>page and line: ...   \n",
       "9|#facs_5_r4l4    <b>location: Purmerende</b><br><br><b>page and...   \n",
       "53|#facs_5_r4l23  <b>location: Hollant</b><br><br><b>page and li...   \n",
       "46|#facs_6_r3l31  <b>location: Hollant</b><br><br><b>page and li...   \n",
       "40|#facs_7_r3l23  <b>location: Hollant</b><br><br><b>page and li...   \n",
       "\n",
       "                 date_belong    location raw_location  \n",
       "10|#facs_3_r1l5          NaN         NaN          NaN  \n",
       "9|#facs_5_r4l4    1788-01-01  Purmerende   Purmerende  \n",
       "53|#facs_5_r4l23  1788-01-01     Hollant      Holland  \n",
       "46|#facs_6_r3l31  1788-01-01     Hollant      Holland  \n",
       "40|#facs_7_r3l23  1788-01-01     Hollant     Holland   "
      ]
     },
     "execution_count": 70,
     "metadata": {},
     "output_type": "execute_result"
    }
   ],
   "source": [
    "# df.loc[df['date_belong'].notnull()].shape # notnulldate: 301 / 590\n",
    "df.head() # 590\n"
   ]
  },
  {
   "cell_type": "code",
   "execution_count": 76,
   "metadata": {},
   "outputs": [
    {
     "data": {
      "text/plain": [
       "{'type': 'locatie',\n",
       " 'lb': '#facs_35_r1l2',\n",
       " 'line': 'r1l2',\n",
       " 'value': 'de doelen',\n",
       " 'belong_to_date': {'text': '12 Octob:',\n",
       "  'date_line': '#facs_35_line_1568138097729_1400'},\n",
       " 'page': 35,\n",
       " 'whole_line_context': 'stadig de Wagt, voor en bij de doelen; en'}"
      ]
     },
     "execution_count": 76,
     "metadata": {},
     "output_type": "execute_result"
    }
   ],
   "source": [
    "purm_louw_dic['14|#facs_35_r1l2'] # #facs_35_r1l2"
   ]
  },
  {
   "cell_type": "code",
   "execution_count": 77,
   "metadata": {},
   "outputs": [
    {
     "data": {
      "text/plain": [
       "(289, 6)"
      ]
     },
     "execution_count": 77,
     "metadata": {},
     "output_type": "execute_result"
    }
   ],
   "source": [
    "df.loc[df['date_belong'].isnull()].shape\n",
    "# df.loc[df['raw_location'].isna(),:]\n",
    "# df.loc['38|#facs_53_r1l14','hover']"
   ]
  },
  {
   "cell_type": "code",
   "execution_count": 92,
   "metadata": {},
   "outputs": [
    {
     "data": {
      "text/plain": [
       "(281, 6)"
      ]
     },
     "execution_count": 92,
     "metadata": {},
     "output_type": "execute_result"
    }
   ],
   "source": [
    "df = df.loc[df['la'].notna()&(df['lo'].notna())&((df['date_belong'].notna())),:]\n",
    "df.shape"
   ]
  },
  {
   "cell_type": "code",
   "execution_count": 99,
   "metadata": {},
   "outputs": [
    {
     "data": {
      "text/plain": [
       "'1788-01-01'"
      ]
     },
     "execution_count": 99,
     "metadata": {},
     "output_type": "execute_result"
    }
   ],
   "source": [
    "df['date_belong'][0]"
   ]
  },
  {
   "cell_type": "code",
   "execution_count": 94,
   "metadata": {},
   "outputs": [],
   "source": [
    "pack(object=df,\n",
    "     file_name='test_df.pkl',mode='wb')\n",
    "# df.loc[df['date_belong'].notnull()].sort_values(by='date_belong')"
   ]
  },
  {
   "cell_type": "code",
   "execution_count": 110,
   "metadata": {},
   "outputs": [
    {
     "data": {
      "text/plain": [
       "(281, 6)"
      ]
     },
     "execution_count": 110,
     "metadata": {},
     "output_type": "execute_result"
    }
   ],
   "source": [
    "df = pack(file_name='test_df.pkl',mode='rb')\n",
    "df = df.loc[df['date_belong'].notnull()].sort_values(by='date_belong')\n",
    "df.shape"
   ]
  },
  {
   "cell_type": "code",
   "execution_count": 115,
   "metadata": {},
   "outputs": [
    {
     "name": "stdout",
     "output_type": "stream",
     "text": [
      "nan-nan-nan\n",
      "nan-nan-nan\n"
     ]
    }
   ],
   "source": [
    "for i in df['date_belong'].tolist():\n",
    "    try:\n",
    "        [int(j) for j in i.split('-')]\n",
    "    except:\n",
    "        print(i)\n"
   ]
  },
  {
   "cell_type": "code",
   "execution_count": 126,
   "metadata": {},
   "outputs": [],
   "source": [
    "df_ = df.loc[df['date_belong']!= 'nan-nan-nan',:]\n",
    "\n",
    "for i in df_['date_belong'].tolist():\n",
    "    try:\n",
    "        [int(j) for j in i.split('-')]\n",
    "    except:\n",
    "        print(i)"
   ]
  },
  {
   "cell_type": "code",
   "execution_count": 127,
   "metadata": {},
   "outputs": [],
   "source": [
    "pack(object=df_, file_name='test_df.pkl',mode='wb')"
   ]
  },
  {
   "cell_type": "code",
   "execution_count": 128,
   "metadata": {},
   "outputs": [
    {
     "data": {
      "text/html": [
       "<div>\n",
       "<style scoped>\n",
       "    .dataframe tbody tr th:only-of-type {\n",
       "        vertical-align: middle;\n",
       "    }\n",
       "\n",
       "    .dataframe tbody tr th {\n",
       "        vertical-align: top;\n",
       "    }\n",
       "\n",
       "    .dataframe thead th {\n",
       "        text-align: right;\n",
       "    }\n",
       "</style>\n",
       "<table border=\"1\" class=\"dataframe\">\n",
       "  <thead>\n",
       "    <tr style=\"text-align: right;\">\n",
       "      <th></th>\n",
       "      <th>la</th>\n",
       "      <th>lo</th>\n",
       "      <th>hover</th>\n",
       "      <th>date_belong</th>\n",
       "      <th>location</th>\n",
       "      <th>raw_location</th>\n",
       "    </tr>\n",
       "  </thead>\n",
       "  <tbody>\n",
       "  </tbody>\n",
       "</table>\n",
       "</div>"
      ],
      "text/plain": [
       "Empty DataFrame\n",
       "Columns: [la, lo, hover, date_belong, location, raw_location]\n",
       "Index: []"
      ]
     },
     "execution_count": 128,
     "metadata": {},
     "output_type": "execute_result"
    }
   ],
   "source": [
    "df_.loc[df_['date_belong'] == 'nan-nan-nan',:]"
   ]
  },
  {
   "cell_type": "code",
   "execution_count": 134,
   "metadata": {},
   "outputs": [
    {
     "name": "stderr",
     "output_type": "stream",
     "text": [
      "<ipython-input-134-87246180de6a>:13: SettingWithCopyWarning: \n",
      "A value is trying to be set on a copy of a slice from a DataFrame.\n",
      "Try using .loc[row_indexer,col_indexer] = value instead\n",
      "\n",
      "See the caveats in the documentation: https://pandas.pydata.org/pandas-docs/stable/user_guide/indexing.html#returning-a-view-versus-a-copy\n",
      "  df_['date_belong'] = date_list\n"
     ]
    }
   ],
   "source": [
    "def string_to_date(string):\n",
    "    # 1778-10-13\n",
    "    _ = string.split('-')\n",
    "    assert len(_) == 3, f\"{string} is not standard format for datetime.date()\"\n",
    "    try: \n",
    "        d = datetime.date(int(_[0]),int(_[1]),int(_[2]))\n",
    "        return d\n",
    "    except:\n",
    "        print(f\"{_} ???\")\n",
    "date_list = []\n",
    "for i in df_['date_belong'].tolist():\n",
    "    date_list.append(string_to_date(i))# date(*[int(j) for j in i.split('-')]))\n",
    "df_['date_belong'] = date_list\n",
    "date_list = sorted(date_list)\n"
   ]
  },
  {
   "cell_type": "code",
   "execution_count": 136,
   "metadata": {},
   "outputs": [
    {
     "name": "stdout",
     "output_type": "stream",
     "text": [
      "1778-07-01 1766-01-01\n"
     ]
    }
   ],
   "source": [
    "print(date_list[10],date_list[4])"
   ]
  },
  {
   "cell_type": "code",
   "execution_count": 138,
   "metadata": {},
   "outputs": [
    {
     "name": "stdout",
     "output_type": "stream",
     "text": [
      "1766-01-01\n",
      "1766-01-01\n",
      "1766-01-01\n",
      "1766-01-01\n",
      "1773-07-20\n",
      "1778-01-01\n",
      "1778-01-01\n",
      "1778-07-01\n",
      "1778-07-01\n"
     ]
    }
   ],
   "source": [
    "for i in date_list:\n",
    "    if (i <= date_list[10]) & (i >= date_list[4]):\n",
    "        print(i)"
   ]
  },
  {
   "cell_type": "code",
   "execution_count": null,
   "metadata": {},
   "outputs": [],
   "source": []
  },
  {
   "cell_type": "code",
   "execution_count": null,
   "metadata": {},
   "outputs": [],
   "source": [
    "# uni_dates = set([v.get('datetime') for k,v in facs2re1_dic.items() if v.get('datetime')])\n",
    "\n",
    "color = plotly.colors.qualitative.Plotly\n",
    "Fig = go.Figure()\n",
    "for ind,i in enumerate(sorted(df['date_belong'].unique())):\n",
    "    _ = df.loc[df['date_belong']==i,:]\n",
    "    d = go.Scattermapbox(lat = _['lat'],\n",
    "                         lon = _['lon'],\n",
    "                         mode='markers',\n",
    "                         marker = dict(size=12,color=color[ind]), # go.scattermapbox.Marker\n",
    "                         text = _['hover'].tolist(),\n",
    "                         name = str(i),\n",
    "                         hoverinfo='text')\n",
    "    Fig.add_trace(d)\n",
    "\n",
    "Fig.update_layout(mapbox=dict(style='open-street-map'))\n",
    "Fig.update_layout(margin={\"r\":0,\"t\":0,\"l\":0,\"b\":0})\n",
    "Fig.update_layout(legend=dict(y=0.2,x=1))\n",
    "Fig.show()\n",
    "# Fig.write_html('test.html')"
   ]
  },
  {
   "cell_type": "code",
   "execution_count": null,
   "metadata": {},
   "outputs": [],
   "source": []
  },
  {
   "cell_type": "code",
   "execution_count": null,
   "metadata": {},
   "outputs": [],
   "source": []
  },
  {
   "cell_type": "code",
   "execution_count": null,
   "metadata": {},
   "outputs": [],
   "source": []
  },
  {
   "cell_type": "code",
   "execution_count": null,
   "metadata": {},
   "outputs": [],
   "source": []
  },
  {
   "cell_type": "code",
   "execution_count": null,
   "metadata": {},
   "outputs": [],
   "source": []
  }
 ],
 "metadata": {
  "kernelspec": {
   "display_name": "Python 3.8.5 ('ccss')",
   "language": "python",
   "name": "python3"
  },
  "language_info": {
   "codemirror_mode": {
    "name": "ipython",
    "version": 3
   },
   "file_extension": ".py",
   "mimetype": "text/x-python",
   "name": "python",
   "nbconvert_exporter": "python",
   "pygments_lexer": "ipython3",
   "version": "3.8.5"
  },
  "orig_nbformat": 4,
  "vscode": {
   "interpreter": {
    "hash": "483ff14553254d47bb5ca00f7784335c916df64575b78231826ea105d8b3c56b"
   }
  }
 },
 "nbformat": 4,
 "nbformat_minor": 2
}
